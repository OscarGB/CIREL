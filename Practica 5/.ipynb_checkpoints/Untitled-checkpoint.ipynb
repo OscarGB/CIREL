{
 "cells": [
  {
   "cell_type": "code",
   "execution_count": 68,
   "metadata": {
    "collapsed": false
   },
   "outputs": [],
   "source": [
    "var('Vo, Zc, Zl, Vi, R1, R2, w')\n",
    "i = CC(i)"
   ]
  },
  {
   "cell_type": "code",
   "execution_count": 109,
   "metadata": {
    "collapsed": true
   },
   "outputs": [],
   "source": [
    "Zl = 0.01*w*2*pi\n",
    "Zc = 0.0000001*w*2*pi\n",
    "R1 = 1000\n",
    "R2 = 2200"
   ]
  },
  {
   "cell_type": "code",
   "execution_count": 110,
   "metadata": {
    "collapsed": false
   },
   "outputs": [],
   "source": [
    "Vo = 1/(1/Zc + 1/Zl)"
   ]
  },
  {
   "cell_type": "code",
   "execution_count": 111,
   "metadata": {
    "collapsed": false
   },
   "outputs": [
    {
     "data": {
      "text/html": [
       "<html><script type=\"math/tex; mode=display\">\\newcommand{\\Bold}[1]{\\mathbf{#1}}\\left(1.99998000020000 \\times 10^{-7}\\right) \\, \\pi w</script></html>"
      ],
      "text/plain": [
       "(1.99998000020000e-7)*pi*w"
      ]
     },
     "metadata": {},
     "output_type": "display_data"
    }
   ],
   "source": [
    "show(Vo)\n"
   ]
  },
  {
   "cell_type": "code",
   "execution_count": 112,
   "metadata": {
    "collapsed": false
   },
   "outputs": [],
   "source": [
    "Vi = R1 + R2 + Vo"
   ]
  },
  {
   "cell_type": "code",
   "execution_count": 113,
   "metadata": {
    "collapsed": false
   },
   "outputs": [
    {
     "data": {
      "text/html": [
       "<html><script type=\"math/tex; mode=display\">\\newcommand{\\Bold}[1]{\\mathbf{#1}}\\left(1.99998000020000 \\times 10^{-7}\\right) \\, \\pi w + 3200</script></html>"
      ],
      "text/plain": [
       "(1.99998000020000e-7)*pi*w + 3200"
      ]
     },
     "metadata": {},
     "output_type": "display_data"
    }
   ],
   "source": [
    "show(Vi)"
   ]
  },
  {
   "cell_type": "code",
   "execution_count": 114,
   "metadata": {
    "collapsed": false
   },
   "outputs": [
    {
     "data": {
      "text/html": [
       "<html><script type=\"math/tex; mode=display\">\\newcommand{\\Bold}[1]{\\mathbf{#1}}\\frac{\\left(1.99998000020000 \\times 10^{-7}\\right) \\, \\pi w}{\\left(1.99998000020000 \\times 10^{-7}\\right) \\, \\pi w + 3200}</script></html>"
      ],
      "text/plain": [
       "(1.99998000020000e-7)*pi*w/((1.99998000020000e-7)*pi*w + 3200)"
      ]
     },
     "metadata": {},
     "output_type": "display_data"
    }
   ],
   "source": [
    "show(expand(Vo/Vi))"
   ]
  },
  {
   "cell_type": "code",
   "execution_count": 115,
   "metadata": {
    "collapsed": false
   },
   "outputs": [],
   "source": [
    "Av = expand(Vo/Vi)"
   ]
  },
  {
   "cell_type": "code",
   "execution_count": 116,
   "metadata": {
    "collapsed": true
   },
   "outputs": [],
   "source": [
    "Avv(w) = (1/(Zc-1/Zl))/(sqrt(3200**2 + 1/(Zc-1/Zl)))"
   ]
  },
  {
   "cell_type": "code",
   "execution_count": 117,
   "metadata": {
    "collapsed": false
   },
   "outputs": [
    {
     "data": {
      "text/html": [
       "<html><script type=\"math/tex; mode=display\">\\newcommand{\\Bold}[1]{\\mathbf{#1}}w \\ {\\mapsto}\\ \\frac{1}{{\\left(\\left(2.00000000000000 \\times 10^{-7}\\right) \\, \\pi w - \\frac{50.0000000000000}{\\pi w}\\right)} \\sqrt{\\frac{1}{\\left(2.00000000000000 \\times 10^{-7}\\right) \\, \\pi w - \\frac{50.0000000000000}{\\pi w}} + 10240000}}</script></html>"
      ],
      "text/plain": [
       "w |--> 1/(((2.00000000000000e-7)*pi*w - 50.0000000000000/(pi*w))*sqrt(1/((2.00000000000000e-7)*pi*w - 50.0000000000000/(pi*w)) + 10240000))"
      ]
     },
     "metadata": {},
     "output_type": "display_data"
    }
   ],
   "source": [
    "show(Avv)"
   ]
  },
  {
   "cell_type": "code",
   "execution_count": 118,
   "metadata": {
    "collapsed": false
   },
   "outputs": [
    {
     "data": {
      "text/plain": [
       "1/((0.0000200000000000000*pi - 0.500000000000000/pi)*sqrt(1/(0.0000200000000000000*pi - 0.500000000000000/pi) + 10240000))"
      ]
     },
     "execution_count": 118,
     "metadata": {},
     "output_type": "execute_result"
    }
   ],
   "source": [
    "Avv(100)"
   ]
  },
  {
   "cell_type": "code",
   "execution_count": 119,
   "metadata": {
    "collapsed": false
   },
   "outputs": [
    {
     "data": {
      "text/plain": [
       "1/((0.000200000000000000*pi - 0.0500000000000000/pi)*sqrt(1/(0.000200000000000000*pi - 0.0500000000000000/pi) + 10240000))"
      ]
     },
     "execution_count": 119,
     "metadata": {},
     "output_type": "execute_result"
    }
   ],
   "source": [
    "Avv(1000)"
   ]
  },
  {
   "cell_type": "code",
   "execution_count": 120,
   "metadata": {
    "collapsed": false
   },
   "outputs": [
    {
     "data": {
      "text/plain": [
       "1/((0.00200000000000000*pi - 0.00500000000000000/pi)*sqrt(1/(0.00200000000000000*pi - 0.00500000000000000/pi) + 10240000))"
      ]
     },
     "execution_count": 120,
     "metadata": {},
     "output_type": "execute_result"
    }
   ],
   "source": [
    "Avv(10000)"
   ]
  },
  {
   "cell_type": "code",
   "execution_count": 121,
   "metadata": {
    "collapsed": false
   },
   "outputs": [
    {
     "data": {
      "text/plain": [
       "1/((0.0200000000000000*pi - 0.000500000000000000/pi)*sqrt(1/(0.0200000000000000*pi - 0.000500000000000000/pi) + 10240000))"
      ]
     },
     "execution_count": 121,
     "metadata": {},
     "output_type": "execute_result"
    }
   ],
   "source": [
    "Avv(100000)"
   ]
  },
  {
   "cell_type": "code",
   "execution_count": 122,
   "metadata": {
    "collapsed": false
   },
   "outputs": [
    {
     "data": {
      "text/plain": [
       "20*log(1/(((2.00000000000000e-6)*pi - 5.00000000000000/pi)*sqrt(1/((2.00000000000000e-6)*pi - 5.00000000000000/pi) + 10240000)))/log(10)"
      ]
     },
     "execution_count": 122,
     "metadata": {},
     "output_type": "execute_result"
    }
   ],
   "source": [
    "20*log(Avv(10), 10)"
   ]
  },
  {
   "cell_type": "code",
   "execution_count": 123,
   "metadata": {
    "collapsed": false
   },
   "outputs": [
    {
     "data": {
      "text/plain": [
       "20*log(1/((0.0000200000000000000*pi - 0.500000000000000/pi)*sqrt(1/(0.0000200000000000000*pi - 0.500000000000000/pi) + 10240000)))/log(10)"
      ]
     },
     "execution_count": 123,
     "metadata": {},
     "output_type": "execute_result"
    }
   ],
   "source": [
    "20*log(Avv(100), 10)"
   ]
  },
  {
   "cell_type": "code",
   "execution_count": 124,
   "metadata": {
    "collapsed": false
   },
   "outputs": [
    {
     "data": {
      "text/plain": [
       "20*log(1/((0.000200000000000000*pi - 0.0500000000000000/pi)*sqrt(1/(0.000200000000000000*pi - 0.0500000000000000/pi) + 10240000)))/log(10)"
      ]
     },
     "execution_count": 124,
     "metadata": {},
     "output_type": "execute_result"
    }
   ],
   "source": [
    "20*log(Avv(1000), 10)"
   ]
  },
  {
   "cell_type": "code",
   "execution_count": 125,
   "metadata": {
    "collapsed": false
   },
   "outputs": [
    {
     "data": {
      "text/plain": [
       "20*log(1/((0.00200000000000000*pi - 0.00500000000000000/pi)*sqrt(1/(0.00200000000000000*pi - 0.00500000000000000/pi) + 10240000)))/log(10)"
      ]
     },
     "execution_count": 125,
     "metadata": {},
     "output_type": "execute_result"
    }
   ],
   "source": [
    "20*log(Avv(10000), 10)"
   ]
  },
  {
   "cell_type": "code",
   "execution_count": 126,
   "metadata": {
    "collapsed": false
   },
   "outputs": [
    {
     "data": {
      "text/plain": [
       "20*log(1/((0.0200000000000000*pi - 0.000500000000000000/pi)*sqrt(1/(0.0200000000000000*pi - 0.000500000000000000/pi) + 10240000)))/log(10)"
      ]
     },
     "execution_count": 126,
     "metadata": {},
     "output_type": "execute_result"
    }
   ],
   "source": [
    "20*log(Avv(100000), 10)"
   ]
  },
  {
   "cell_type": "code",
   "execution_count": null,
   "metadata": {
    "collapsed": true
   },
   "outputs": [],
   "source": []
  }
 ],
 "metadata": {
  "kernelspec": {
   "display_name": "SageMath 7.3",
   "language": "",
   "name": "sagemath"
  },
  "language_info": {
   "codemirror_mode": {
    "name": "ipython",
    "version": 2
   },
   "file_extension": ".py",
   "mimetype": "text/x-python",
   "name": "python",
   "nbconvert_exporter": "python",
   "pygments_lexer": "ipython2",
   "version": "2.7.10"
  }
 },
 "nbformat": 4,
 "nbformat_minor": 0
}
